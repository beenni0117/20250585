{
  "nbformat": 4,
  "nbformat_minor": 0,
  "metadata": {
    "colab": {
      "provenance": []
    },
    "kernelspec": {
      "name": "python3",
      "display_name": "Python 3"
    },
    "language_info": {
      "name": "python"
    }
  },
  "cells": [
    {
      "cell_type": "code",
      "execution_count": 1,
      "metadata": {
        "colab": {
          "base_uri": "https://localhost:8080/"
        },
        "id": "6LOnxZKBXzpy",
        "outputId": "9df69ac8-b45c-4b3f-d9fe-eab508d39411"
      },
      "outputs": [
        {
          "output_type": "stream",
          "name": "stdout",
          "text": [
            "조성빈, 010-5383-4855, 20살\n"
          ]
        }
      ],
      "source": [
        "print(\"조성빈, 010-5383-4855, 20살\")"
      ]
    },
    {
      "cell_type": "code",
      "source": [],
      "metadata": {
        "id": "L3CJotOxYsJZ"
      },
      "execution_count": null,
      "outputs": []
    }
  ]
}