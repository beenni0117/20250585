{
  "nbformat": 4,
  "nbformat_minor": 0,
  "metadata": {
    "colab": {
      "provenance": []
    },
    "kernelspec": {
      "name": "python3",
      "display_name": "Python 3"
    },
    "language_info": {
      "name": "python"
    }
  },
  "cells": [
    {
      "cell_type": "code",
      "execution_count": 1,
      "metadata": {
        "colab": {
          "base_uri": "https://localhost:8080/"
        },
        "id": "iWUBWkSxJP_n",
        "outputId": "25ba3252-3252-43c7-fb52-120ba2c20e01"
      },
      "outputs": [
        {
          "output_type": "stream",
          "name": "stdout",
          "text": [
            "[6, 5, 4, 3, 2]\n"
          ]
        }
      ],
      "source": [
        "a = [2,3,4,5,6]\n",
        "rev_a = []\n",
        "for _ in range(len(a)):\n",
        "  rev_a.append(a.pop())\n",
        "print(rev_a)"
      ]
    },
    {
      "cell_type": "code",
      "source": [],
      "metadata": {
        "id": "ZaTEmK3TKXBs"
      },
      "execution_count": null,
      "outputs": []
    }
  ]
}